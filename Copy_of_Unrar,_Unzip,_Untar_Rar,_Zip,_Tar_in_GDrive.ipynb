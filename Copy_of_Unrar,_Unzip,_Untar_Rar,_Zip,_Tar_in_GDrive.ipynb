{
  "nbformat": 4,
  "nbformat_minor": 0,
  "metadata": {
    "colab": {
      "name": "Copy of Unrar, Unzip, Untar Rar, Zip, Tar in GDrive",
      "provenance": [],
      "collapsed_sections": [
        "CFFPQjl-iX0m",
        "hi4f8Ba-diVf",
        "bAls_UEYfwIX",
        "IoAshgcf45gs",
        "o1PFiGyMAMvg",
        "mOnUdLJqVaYA",
        "VKdYIG49VaYA",
        "BjYXYIk0VaYE",
        "Dm58cAVSAFbr"
      ],
      "toc_visible": true,
      "include_colab_link": true
    },
    "kernelspec": {
      "name": "python3",
      "display_name": "Python 3"
    },
    "accelerator": "GPU"
  },
  "cells": [
    {
      "cell_type": "markdown",
      "metadata": {
        "id": "view-in-github",
        "colab_type": "text"
      },
      "source": [
        "<a href=\"https://colab.research.google.com/github/Himanshukhanduri20/Download-file-using-URL-to-G-drive-Directly/blob/main/Copy_of_Unrar%2C_Unzip%2C_Untar_Rar%2C_Zip%2C_Tar_in_GDrive.ipynb\" target=\"_parent\"><img src=\"https://colab.research.google.com/assets/colab-badge.svg\" alt=\"Open In Colab\"/></a>"
      ]
    },
    {
      "cell_type": "markdown",
      "metadata": {
        "id": "tdHkmd6olkGV"
      },
      "source": [
        "## **<font color=\"red\">Important note</font> - After doing all the steps, please note that depending on your file size of the Zip and Rar files, it may take a while to show up in your Google Drive. Please be patient. Eventually, it will show up in your drive.**\n",
        "###**<font color=\"red\">For larger files</font> - it may take some time to show up in your Google Drive. Do not rerun the code if it doesn't show up fast. Just keep refreshing your Google Drive page to see if it shows up**\n",
        "###**<font color=\"red\">For small files</font> - it will show up quicker in your Google Drive. Just wait until it shows up. Just keep refreshing your page to see if it shows up**\n",
        "###**<font color=\"red\">Update</font> - added some features**\n",
        "* Extract/create password protected rar files\n",
        "* Extract/create tar/tar.gz/tar/bz files\n"
      ]
    },
    {
      "cell_type": "markdown",
      "metadata": {
        "id": "CFFPQjl-iX0m"
      },
      "source": [
        "#__Mount GDrive to /content/drive__"
      ]
    },
    {
      "cell_type": "code",
      "metadata": {
        "id": "TfWtGXmqbggL",
        "cellView": "form"
      },
      "source": [
        "#@markdown <br><center><img src='https://upload.wikimedia.org/wikipedia/commons/thumb/d/da/Google_Drive_logo.png/600px-Google_Drive_logo.png' height=\"50\" alt=\"Gdrive-logo\"/></center>\n",
        "#@markdown <center><h3>Mount GDrive to /content/drive</h3></center><br>\n",
        "MODE = \"MOUNT\" #@param [\"MOUNT\", \"UNMOUNT\"]\n",
        "#Mount your Gdrive! \n",
        "from google.colab import drive\n",
        "drive.mount._DEBUG = False\n",
        "if MODE == \"MOUNT\":\n",
        "  drive.mount('/content/drive', force_remount=True)\n",
        "elif MODE == \"UNMOUNT\":\n",
        "  try:\n",
        "    drive.flush_and_unmount()\n",
        "  except ValueError:\n",
        "    pass\n",
        "  get_ipython().system_raw(\"rm -rf /root/.config/Google/DriveFS\")"
      ],
      "execution_count": null,
      "outputs": []
    },
    {
      "cell_type": "markdown",
      "metadata": {
        "id": "hi4f8Ba-diVf"
      },
      "source": [
        "#__Unzip/Unrar/Untar Files__"
      ]
    },
    {
      "cell_type": "markdown",
      "metadata": {
        "id": "bAls_UEYfwIX"
      },
      "source": [
        "##__Unzip Files__\n",
        "\n"
      ]
    },
    {
      "cell_type": "markdown",
      "metadata": {
        "id": "o_zFmom9fWNW"
      },
      "source": [
        "*   First path in below cell - Your Google Drive file location which you want to Unzip\n",
        "*   Second path in below cell - Path where you want to extract the zip file in Google Drive"
      ]
    },
    {
      "cell_type": "code",
      "metadata": {
        "id": "O1_kc7HBeslm",
        "cellView": "both"
      },
      "source": [
        "!unzip \"/content/drive/path/input_file_name.zip\" -d \"/content/drive/path/output_folder/\""
      ],
      "execution_count": null,
      "outputs": []
    },
    {
      "cell_type": "markdown",
      "metadata": {
        "id": "IoAshgcf45gs"
      },
      "source": [
        "##__Unrar Files</center>__\n",
        "\n",
        "\n",
        "\n"
      ]
    },
    {
      "cell_type": "markdown",
      "metadata": {
        "id": "Z1Ql6FiDdBYW"
      },
      "source": [
        "*   First path in below cell - Your Google Drive file location which you want to Unrar\n",
        "*   Second path in below cell - Path where you want to extract the rar file in Google Drive\n",
        "\n",
        "*If you want to extract a password protected rar file, then add \"-Y\" flag or Use this command instead of the command in the cell\n",
        "(replace the command with the command in the cell)*\n",
        "\n",
        "* ```\n",
        "!unrar x -Y \"/content/drive/path/input_file_name.rar\" \"/content/drive/path/output_folder/\"\n",
        "```\n",
        "\n",
        "\n",
        "\n"
      ]
    },
    {
      "cell_type": "code",
      "metadata": {
        "id": "5ScZvnCdzKm3",
        "cellView": "both"
      },
      "source": [
        "!unrar x \"/content/drive/path/input_file_name.rar\" \"/content/drive/path/output_folder/\""
      ],
      "execution_count": null,
      "outputs": []
    },
    {
      "cell_type": "markdown",
      "metadata": {
        "id": "o1PFiGyMAMvg"
      },
      "source": [
        "##__Untar Files__\n",
        "\n"
      ]
    },
    {
      "cell_type": "markdown",
      "metadata": {
        "id": "sBWJzqQtAMvg"
      },
      "source": [
        "*   First path in below cell - Your Google Drive file location which you want to Untar\n",
        "*   Second path in below cell - Path where you want to extract the tar file in Google Drive\n",
        "\n",
        " *__Flags__*\n",
        "\n",
        " * -x : Extract a tar ball.\n",
        " * -v : Verbose output or show progress while extracting files.\n",
        " * -f : Specify an archive or a tarball filename.\n",
        " * -C : Specify a different directory to extract\n",
        " * -z : Decompress and extract the contents of the compressed archive created by gzip program (tar.gz extension).\n",
        " * -j : Decompress and extract the contents of the compressed archive created by bzip2 program (tar.bz2 extension)."
      ]
    },
    {
      "cell_type": "code",
      "metadata": {
        "cellView": "both",
        "id": "EKjIowyWAMvh"
      },
      "source": [
        "!tar -xvf \"/content/drive/path/input_file_name.tar\" -C \"/content/drive/path/output_folder/\"     #[run this cell to extract tar files]"
      ],
      "execution_count": null,
      "outputs": []
    },
    {
      "cell_type": "code",
      "metadata": {
        "id": "YfSkw7IFH2pl"
      },
      "source": [
        "!tar -xzvf \"/content/drive/path/input_file_name.tar.gz\" -C \"/content/drive/path/output_folder/\"     #[run this cell to extract tar.gz files]"
      ],
      "execution_count": null,
      "outputs": []
    },
    {
      "cell_type": "code",
      "metadata": {
        "id": "tVaZLH-hH54z"
      },
      "source": [
        "!tar -xjvf \"/content/drive/path/input_file_name.tar.bz2\" -C \"/content/drive/path/output_folder/\"     #[run this cell to extract tar.bz2 files]"
      ],
      "execution_count": null,
      "outputs": []
    },
    {
      "cell_type": "markdown",
      "metadata": {
        "id": "mOnUdLJqVaYA"
      },
      "source": [
        "#__Zip/Rar/Tar Files/Folders__"
      ]
    },
    {
      "cell_type": "markdown",
      "metadata": {
        "id": "VKdYIG49VaYA"
      },
      "source": [
        "##__Zip Files/Folders__\n",
        "\n"
      ]
    },
    {
      "cell_type": "markdown",
      "metadata": {
        "id": "n_x6sSnoVaYB"
      },
      "source": [
        "*   First path in below cell - Your Zip output filename\n",
        "*   Second path in below cell - Google Drive file location of the files which you want to Zip"
      ]
    },
    {
      "cell_type": "code",
      "metadata": {
        "cellView": "both",
        "id": "zZ4DrMhmVaYB",
        "colab": {
          "base_uri": "https://localhost:8080/"
        },
        "outputId": "c4cb0132-46e6-48e6-e823-5fb28931dba2"
      },
      "source": [
        "!zip \"/content/drive/path/output_file_name.zip\" \"/content/drive/My Drive/Tutorial/games\""
      ],
      "execution_count": 1,
      "outputs": [
        {
          "output_type": "stream",
          "text": [
            "\tzip warning: name not matched: /content/drive/My Drive/Tutorial/games\n",
            "\n",
            "zip error: Nothing to do! (/content/drive/path/output_file_name.zip)\n"
          ],
          "name": "stdout"
        }
      ]
    },
    {
      "cell_type": "markdown",
      "metadata": {
        "id": "BjYXYIk0VaYE"
      },
      "source": [
        "##__Rar Files/Folders__\n",
        "\n",
        "\n",
        "\n"
      ]
    },
    {
      "cell_type": "code",
      "metadata": {
        "id": "lNeNaDMSWHFI",
        "colab": {
          "base_uri": "https://localhost:8080/"
        },
        "outputId": "e726265b-2415-4e55-9f29-f13a345da175"
      },
      "source": [
        "# <= Click this cell to rar the folder\n",
        "\n",
        "!apt-get install rar"
      ],
      "execution_count": 2,
      "outputs": [
        {
          "output_type": "stream",
          "text": [
            "Reading package lists... Done\n",
            "Building dependency tree       \n",
            "Reading state information... Done\n",
            "The following package was automatically installed and is no longer required:\n",
            "  libnvidia-common-460\n",
            "Use 'apt autoremove' to remove it.\n",
            "The following NEW packages will be installed:\n",
            "  rar\n",
            "0 upgraded, 1 newly installed, 0 to remove and 34 not upgraded.\n",
            "Need to get 295 kB of archives.\n",
            "After this operation, 799 kB of additional disk space will be used.\n",
            "Get:1 http://archive.ubuntu.com/ubuntu bionic/multiverse amd64 rar amd64 2:5.5.0-1 [295 kB]\n",
            "Fetched 295 kB in 1s (523 kB/s)\n",
            "Selecting previously unselected package rar.\n",
            "(Reading database ... 160690 files and directories currently installed.)\n",
            "Preparing to unpack .../rar_2%3a5.5.0-1_amd64.deb ...\n",
            "Unpacking rar (2:5.5.0-1) ...\n",
            "Setting up rar (2:5.5.0-1) ...\n",
            "Processing triggers for man-db (2.8.3-2ubuntu0.1) ...\n"
          ],
          "name": "stdout"
        }
      ]
    },
    {
      "cell_type": "markdown",
      "metadata": {
        "id": "G24N0obDVaYE"
      },
      "source": [
        "*   First path in below cell - Your Rar File output Name (do not put .rar at the end. It will take it automatically)\n",
        "*   Second path in below cell - Google Drive file location of the files/folder which you want to Rar\n",
        "\n",
        "*If you want to create a password protected rar file, then add \"-p\" flag or Use this command instead of the command in in the cell.\n",
        "(replace the command with the command in the cell) After running the cell, it will ask you to provide the password*\n",
        "\n",
        "* ```\n",
        "!rar a -p \"/content/drive/path/output_file_name\" \"/content/drive/path/input_file_or_folder\"\n",
        "```"
      ]
    },
    {
      "cell_type": "code",
      "metadata": {
        "cellView": "both",
        "id": "WtbqIDwIVaYF",
        "colab": {
          "base_uri": "https://localhost:8080/"
        },
        "outputId": "37032094-8c34-4417-c448-bf243d788ac5"
      },
      "source": [
        "!rar a \"/content/drive/path/output_file_name\" \"/content/drive/path/input_file_or_folder\""
      ],
      "execution_count": 3,
      "outputs": [
        {
          "output_type": "stream",
          "text": [
            "\n",
            "RAR 5.50   Copyright (c) 1993-2017 Alexander Roshal   11 Aug 2017\n",
            "Trial version             Type 'rar -?' for help\n",
            "\n",
            "Evaluation copy. Please register.\n",
            "\n",
            "Cannot open /content/drive/path/input_file_or_folder\n",
            "No such file or directory\n",
            "Cannot create /content/drive/path/output_file_name.rar\n",
            "No such file or directory\n",
            "Program aborted\n"
          ],
          "name": "stdout"
        }
      ]
    },
    {
      "cell_type": "markdown",
      "metadata": {
        "id": "Dm58cAVSAFbr"
      },
      "source": [
        "##__Tar Files/Folders__\n",
        "\n"
      ]
    },
    {
      "cell_type": "markdown",
      "metadata": {
        "id": "9aBzSi69AFbt"
      },
      "source": [
        "*   First path in below cell - Your Tar output filename\n",
        "*   Second path in below cell - Google Drive file location of the files which you want to Tar\n",
        "\n",
        " *__Flags__*\n",
        "\n",
        " * -c : Create a new archive\n",
        " * -v : Verbose output\n",
        " * -f : Use the given archive file (name.extention)\n",
        " * -z : Filter the archive through gzip\n",
        " * -j : Filter the archive through bzip2"
      ]
    },
    {
      "cell_type": "code",
      "metadata": {
        "cellView": "both",
        "id": "EjAf_hxSAFbt",
        "colab": {
          "base_uri": "https://localhost:8080/"
        },
        "outputId": "822184de-4884-4ca3-f271-3d91b3a4f89e"
      },
      "source": [
        "!tar -cvf \"/content/drive/path/output_file_name.tar\" \"/content/drive/path/input_file_or_folder\"     #[run this cell to create tar files]"
      ],
      "execution_count": 4,
      "outputs": [
        {
          "output_type": "stream",
          "text": [
            "tar: /content/drive/path/output_file_name.tar: Cannot open: No such file or directory\n",
            "tar: Error is not recoverable: exiting now\n"
          ],
          "name": "stdout"
        }
      ]
    },
    {
      "cell_type": "code",
      "metadata": {
        "id": "0n-O8xGADZ2o",
        "colab": {
          "base_uri": "https://localhost:8080/"
        },
        "outputId": "53ac9f14-cd15-4346-c55e-3d743ca1b8cf"
      },
      "source": [
        "!tar -czvf \"/content/drive/path/output_file_name.tar.gz\" \"/content/drive/path/input_file_or_folder\"     #[run this cell to create tar.gz files]"
      ],
      "execution_count": 5,
      "outputs": [
        {
          "output_type": "stream",
          "text": [
            "tar: Removing leading `/' from member names\n",
            "tar: /content/drive/path/input_file_or_folder: Cannot stat: No such file or directory\n",
            "tar (child): /content/drive/path/output_file_name.tar.gz: Cannot open: No such file or directory\n",
            "tar (child): Error is not recoverable: exiting now\n",
            "tar: Child returned status 2\n",
            "tar: Error is not recoverable: exiting now\n"
          ],
          "name": "stdout"
        }
      ]
    },
    {
      "cell_type": "code",
      "metadata": {
        "id": "qjdZ4cTbD8qx",
        "colab": {
          "base_uri": "https://localhost:8080/"
        },
        "outputId": "ca0b02dd-5fa9-4fed-cb97-6dc8a9bf5dfd"
      },
      "source": [
        "!tar -cjvf \"/content/drive/path/output_file_name.tar.bz2\" \"/content/drive/path/input_file_or_folder\"      #[run this cell to create tar.bz2 files]"
      ],
      "execution_count": 6,
      "outputs": [
        {
          "output_type": "stream",
          "text": [
            "tar: Removing leading `/' from member names\n",
            "tar (child): tar: /content/drive/path/input_file_or_folder: Cannot stat/content/drive/path/output_file_name.tar.bz2: Cannot open: No such file or directory\n",
            ": No such file or directory\n",
            "tar (child): Error is not recoverable: exiting now\n",
            "tar: Child returned status 2\n",
            "tar: Error is not recoverable: exiting now\n"
          ],
          "name": "stdout"
        }
      ]
    },
    {
      "cell_type": "markdown",
      "metadata": {
        "id": "mUnldBYjp-sa"
      },
      "source": [
        "# Follow me on GitHub for more: [_@cheems_](https://github.com/cheems)\n",
        "# 📦 Repo: [Github](https://github.com/cheems/compress-decompress-in-Google-Drive)"
      ]
    }
  ]
}